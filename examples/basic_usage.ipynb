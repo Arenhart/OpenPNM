{
 "cells": [
  {
   "cell_type": "markdown",
   "id": "4d724eae",
   "metadata": {},
   "source": [
    "# Basic Usage\n",
    "\n",
    "It is relatively easy to get going with a quick simulation in OpenPNM.\n",
    "In fact the following code block produces a mercury intrusion simulation in\n",
    "just a few lines."
   ]
  },
  {
   "cell_type": "markdown",
   "id": "d122c429",
   "metadata": {},
   "source": [
    "## Problem setup"
   ]
  },
  {
   "cell_type": "code",
   "execution_count": 69,
   "id": "1cc50017",
   "metadata": {},
   "outputs": [
    {
     "name": "stdout",
     "output_type": "stream",
     "text": [
      "\n",
      "══════════════════════════════════════════════════════════════════════════════\n",
      "net : <openpnm.network.Cubic at 0x2713ca4f470>\n",
      "――――――――――――――――――――――――――――――――――――――――――――――――――――――――――――――――――――――――――――――\n",
      "  #  Properties                                                   Valid Values\n",
      "――――――――――――――――――――――――――――――――――――――――――――――――――――――――――――――――――――――――――――――\n",
      "  2  pore.coords                                                   1000 / 1000\n",
      "  3  throat.conns                                                  2700 / 2700\n",
      "  4  pore.coordination_number                                      1000 / 1000\n",
      "  5  pore.max_size                                                 1000 / 1000\n",
      "  6  throat.spacing                                                2700 / 2700\n",
      "  7  pore.seed                                                     1000 / 1000\n",
      "  8  pore.diameter                                                 1000 / 1000\n",
      "  9  throat.max_size                                               2700 / 2700\n",
      " 10  throat.diameter                                               2700 / 2700\n",
      " 11  throat.cross_sectional_area                                   2700 / 2700\n",
      " 12  throat.hydraulic_size_factors                                 2700 / 2700\n",
      " 13  throat.diffusive_size_factors                                 2700 / 2700\n",
      " 14  throat.lens_volume                                            2700 / 2700\n",
      " 15  throat.length                                                 2700 / 2700\n",
      " 16  throat.total_volume                                           2700 / 2700\n",
      " 17  throat.volume                                                 2700 / 2700\n",
      " 18  pore.volume                                                   1000 / 1000\n",
      "――――――――――――――――――――――――――――――――――――――――――――――――――――――――――――――――――――――――――――――\n",
      "  #  Labels                                                 Assigned Locations\n",
      "――――――――――――――――――――――――――――――――――――――――――――――――――――――――――――――――――――――――――――――\n",
      "  2  pore.surface                                                          488\n",
      "  3  throat.surface                                                        972\n",
      "  4  pore.left                                                             100\n",
      "  5  pore.right                                                            100\n",
      "  6  pore.front                                                            100\n",
      "  7  pore.back                                                             100\n",
      "  8  pore.bottom                                                           100\n",
      "  9  pore.top                                                              100\n",
      "――――――――――――――――――――――――――――――――――――――――――――――――――――――――――――――――――――――――――――――\n"
     ]
    }
   ],
   "source": [
    "import openpnm as op\n",
    "import numpy as np\n",
    "import matplotlib.pyplot as plt\n",
    "\n",
    "pn = op.network.Cubic([10, 10, 10], spacing=1e-4)\n",
    "pn.add_model_collection(op.models.collections.geometry.spheres_and_cylinders)\n",
    "pn.regenerate_models()\n",
    "print(pn)"
   ]
  },
  {
   "cell_type": "code",
   "execution_count": 70,
   "id": "39c7e190-2caf-4fa8-ba76-d56fae4d07b8",
   "metadata": {},
   "outputs": [
    {
     "name": "stdout",
     "output_type": "stream",
     "text": [
      "\n",
      "══════════════════════════════════════════════════════════════════════════════\n",
      "phase_01 : <openpnm.phase.Mercury at 0x2713c6b5bc0>\n",
      "――――――――――――――――――――――――――――――――――――――――――――――――――――――――――――――――――――――――――――――\n",
      "  #  Properties                                                   Valid Values\n",
      "――――――――――――――――――――――――――――――――――――――――――――――――――――――――――――――――――――――――――――――\n",
      "  2  pore.temperature                                              1000 / 1000\n",
      "  3  pore.pressure                                                 1000 / 1000\n",
      "  4  throat.contact_angle                                          2700 / 2700\n",
      "  5  pore.thermal_conductivity                                     1000 / 1000\n",
      "  6  pore.surface_tension                                          1000 / 1000\n",
      "  7  pore.viscosity                                                1000 / 1000\n",
      "  8  pore.density                                                  1000 / 1000\n",
      "  9  pore.molar_density                                            1000 / 1000\n",
      " 10  throat.entry_pressure                                         2700 / 2700\n",
      "――――――――――――――――――――――――――――――――――――――――――――――――――――――――――――――――――――――――――――――\n",
      "  #  Labels                                                 Assigned Locations\n",
      "――――――――――――――――――――――――――――――――――――――――――――――――――――――――――――――――――――――――――――――\n",
      "  2  pore.all                                                             1000\n",
      "  3  throat.all                                                           2700\n",
      "――――――――――――――――――――――――――――――――――――――――――――――――――――――――――――――――――――――――――――――\n"
     ]
    }
   ],
   "source": [
    "hg = op.phase.Mercury(network=pn)\n",
    "hg.add_model(propname='throat.entry_pressure',\n",
    "             model=op.models.physics.capillary_pressure.washburn)\n",
    "hg.regenerate_models()\n",
    "print(hg)"
   ]
  },
  {
   "cell_type": "code",
   "execution_count": 71,
   "id": "cb0f3ee8-2d91-4a28-9bda-6e1abf363da9",
   "metadata": {},
   "outputs": [
    {
     "data": {
      "application/vnd.jupyter.widget-view+json": {
       "model_id": "add986a48b8341958fef54b02bca41dd",
       "version_major": 2,
       "version_minor": 0
      },
      "text/plain": [
       "Performing drainage simulation:   0%|          | 0/50 [00:00<?, ?it/s]"
      ]
     },
     "metadata": {},
     "output_type": "display_data"
    }
   ],
   "source": [
    "mip = op.algorithms.Drainage(network=pn, phase=hg)\n",
    "mip.set_inlet_BC(pores=pn.pores(['left', 'right']))\n",
    "mip.run(pressures=np.logspace(4, 6))"
   ]
  },
  {
   "cell_type": "code",
   "execution_count": 72,
   "id": "3c60b5ed-f60e-4e98-9188-d2431cbe7c52",
   "metadata": {},
   "outputs": [
    {
     "data": {
      "image/png": "[encoded data removed]",
      "text/plain": [
       "<Figure size 640x480 with 1 Axes>"
      ]
     },
     "metadata": {},
     "output_type": "display_data"
    }
   ],
   "source": [
    "data = mip.pc_curve()\n",
    "fig, ax = plt.subplots()\n",
    "ax.semilogx(data.pc, data.snwp, 'k-o')\n",
    "ax.set_xlabel('Capillary Pressure [Pa]')\n",
    "ax.set_ylabel('Mercury Saturation');"
   ]
  },
  {
   "cell_type": "markdown",
   "id": "7f5c50c1",
   "metadata": {},
   "source": [
    "## Calculating permeability\n",
    "\n",
    "As another example, the permeability coefficient can be found as follows:"
   ]
  },
  {
   "cell_type": "code",
   "execution_count": 73,
   "id": "aca961f1",
   "metadata": {},
   "outputs": [],
   "source": [
    "# Generate phase and physics\n",
    "water = op.phase.Water(network=pn)\n",
    "water.add_model(propname='throat.hydraulic_conductance',\n",
    "                model=op.models.physics.hydraulic_conductance.generic_hydraulic)\n",
    "\n",
    "# Create algorithm, set boundary conditions and run simulation\n",
    "sf = op.algorithms.StokesFlow(network=pn, phase=water)\n",
    "Pin, Pout = (200_000, 101_325)\n",
    "sf.set_value_BC(pores=pn.pores('left'), values=Pin)\n",
    "sf.set_value_BC(pores=pn.pores('right'), values=Pout)\n",
    "sf.run()"
   ]
  },
  {
   "cell_type": "markdown",
   "id": "010bcf56",
   "metadata": {},
   "source": [
    "The total flow rate into the domain through the boundary pores can be found\n",
    "using ``sf.rate(pores=pn.pores('xmin'))``. The permeability coefficient\n",
    "can be found by inserting known values into Darcy's law as follows:"
   ]
  },
  {
   "cell_type": "code",
   "execution_count": 74,
   "id": "a9e72cc5",
   "metadata": {},
   "outputs": [
    {
     "name": "stdout",
     "output_type": "stream",
     "text": [
      "[6.92417039e-13]\n"
     ]
    }
   ],
   "source": [
    "Q = sf.rate(pores=pn.pores('left'))\n",
    "A = Ny*Nz*Lc**2\n",
    "L = Nx*Lc\n",
    "mu = water['pore.viscosity'].mean()\n",
    "K = Q*mu*L/(A*(Pin-Pout))\n",
    "print(K)"
   ]
  },
  {
   "cell_type": "markdown",
   "id": "a4cdab94",
   "metadata": {},
   "source": [
    "## Adjusting pore size distribution\n",
    "\n",
    "It's also worth explaining how to adjust the pore size distribution of the network, so that the capillary curve and permeability coefficient can be changed to match known values. The ``geo`` object controls the geometric properties, and it possess models to calculate values on demand. Let's change the pore size distribution to a Weibull distribution, but first let's store the existing values in a dummy variable so we can compare later."
   ]
  },
  {
   "cell_type": "code",
   "execution_count": 75,
   "id": "ab23c414",
   "metadata": {},
   "outputs": [],
   "source": [
    "import openpnm.models.geometry as gmods\n",
    "\n",
    "pn['pore.old_diameter'] = pn.pop('pore.diameter')\n",
    "pn.add_model(propname='pore.diameter',\n",
    "             model=gmods.pore_size.weibull,\n",
    "             shape=0.5, loc=0, scale=1e-5)"
   ]
  },
  {
   "cell_type": "markdown",
   "id": "252bdeb6",
   "metadata": {},
   "source": [
    "Now you can use `matplotlib.` to get a quick glance at the histograms of the two distributions."
   ]
  },
  {
   "cell_type": "code",
   "execution_count": 76,
   "id": "1aae9dfd",
   "metadata": {},
   "outputs": [
    {
     "data": {
      "image/png": "[encoded data removed]",
      "text/plain": [
       "<Figure size 640x480 with 1 Axes>"
      ]
     },
     "metadata": {},
     "output_type": "display_data"
    }
   ],
   "source": [
    "import matplotlib.pyplot as plt\n",
    "\n",
    "fig, ax = plt.subplots()\n",
    "ax.hist(pn['pore.diameter'], edgecolor='k', label='new diameter')\n",
    "ax.hist(pn['pore.old_diameter'], edgecolor='k', label='old_diameter')\n",
    "ax.legend();"
   ]
  },
  {
   "cell_type": "markdown",
   "id": "0251bc1d",
   "metadata": {},
   "source": [
    "More complex tasks are explained in the [examples](../_examples/index) page."
   ]
  }
 ],
 "metadata": {
  "kernelspec": {
   "display_name": "Python 3 (ipykernel)",
   "language": "python",
   "name": "python3"
  },
  "language_info": {
   "codemirror_mode": {
    "name": "ipython",
    "version": 3
   },
   "file_extension": ".py",
   "mimetype": "text/x-python",
   "name": "python",
   "nbconvert_exporter": "python",
   "pygments_lexer": "ipython3",
   "version": "3.10.12"
  }
 },
 "nbformat": 4,
 "nbformat_minor": 5
}

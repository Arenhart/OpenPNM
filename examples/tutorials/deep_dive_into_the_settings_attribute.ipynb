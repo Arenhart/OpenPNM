{
 "cells": [
  {
   "cell_type": "markdown",
   "id": "ae1b9e3a",
   "metadata": {},
   "source": [
    "# Overview of the Settings Attribute\n",
    "\n",
    "OpenPNM objects all include a ``settings`` attribute which contains certain information used by OpenPNM. The best example is the ``algorithm`` classes, which often require numerous settings such as number of iterations and tolerance for iterative calculations.  This tutorial will provide an overview of how these settings work, both from the user perspective as well as for developers."
   ]
  },
  {
   "cell_type": "code",
   "execution_count": 1,
   "id": "fa396e99",
   "metadata": {},
   "outputs": [],
   "source": [
    "import openpnm as op\n",
    "pn = op.network.Cubic([4, 4,])\n",
    "geo = op.geometry.SpheresAndCylinders(network=pn, pores=pn.Ps, throats=pn.Ts)\n",
    "air = op.phases.Air(network=pn)\n",
    "phys = op.physics.Basic(network=pn, phase=air, geometry=geo)"
   ]
  },
  {
   "cell_type": "markdown",
   "id": "60a37480",
   "metadata": {},
   "source": [
    "## Normal Usage\n",
    "\n",
    "> This section is relevant to users of OpenPNM, while the next section is more relevant to developers\n",
    "\n",
    "Let's look an algorithm that has numerous settings:"
   ]
  },
  {
   "cell_type": "code",
   "execution_count": 2,
   "id": "d8273451",
   "metadata": {},
   "outputs": [],
   "source": [
    "alg = op.algorithms.ReactiveTransport(network=pn, phase=air)"
   ]
  },
  {
   "cell_type": "markdown",
   "id": "bd1b79d1",
   "metadata": {},
   "source": [
    "We can see that many default settings are already present by printing the ``settings`` attribute:"
   ]
  },
  {
   "cell_type": "code",
   "execution_count": 3,
   "id": "438f7320",
   "metadata": {},
   "outputs": [
    {
     "name": "stdout",
     "output_type": "stream",
     "text": [
      "――――――――――――――――――――――――――――――――――――――――――――――――――――――――――――――――――――――――――――――\n",
      "Settings                            Values\n",
      "――――――――――――――――――――――――――――――――――――――――――――――――――――――――――――――――――――――――――――――\n",
      "name                                react_trans_01\n",
      "prefix                              react_trans\n",
      "uuid                                443dbba7-987e-4649-bf75-fa1ae988a54f\n",
      "bob                                 5\n",
      "f_rtol                              1e-06\n",
      "newton_maxiter                      5000\n",
      "nlin_max_iter                       5000\n",
      "relaxation_quantity                 1.0\n",
      "relaxation_source                   1.0\n",
      "sources                             []\n",
      "x_rtol                              1e-06\n",
      "cache_A                             True\n",
      "cache_b                             True\n",
      "conductance                         \n",
      "phase                               phase_01\n",
      "quantity                            \n",
      "――――――――――――――――――――――――――――――――――――――――――――――――――――――――――――――――――――――――――――――\n"
     ]
    }
   ],
   "source": [
    "print(alg.settings)"
   ]
  },
  {
   "cell_type": "markdown",
   "id": "7dfb11c1",
   "metadata": {},
   "source": [
    "We can override these settings manually:"
   ]
  },
  {
   "cell_type": "code",
   "execution_count": 4,
   "id": "002d0909",
   "metadata": {},
   "outputs": [
    {
     "data": {
      "text/plain": [
       "'rxn'"
      ]
     },
     "execution_count": 4,
     "metadata": {},
     "output_type": "execute_result"
    }
   ],
   "source": [
    "alg.settings.prefix = 'rxn'\n",
    "alg.settings.prefix"
   ]
  },
  {
   "cell_type": "markdown",
   "id": "438ab19e",
   "metadata": {},
   "source": [
    "We could also have updated these settings when creating the algorithm object by passing in a set of arguments.  This can be in the form of a dictionary:"
   ]
  },
  {
   "cell_type": "code",
   "execution_count": 5,
   "id": "03083fe1",
   "metadata": {},
   "outputs": [
    {
     "name": "stdout",
     "output_type": "stream",
     "text": [
      "――――――――――――――――――――――――――――――――――――――――――――――――――――――――――――――――――――――――――――――\n",
      "Settings                            Values\n",
      "――――――――――――――――――――――――――――――――――――――――――――――――――――――――――――――――――――――――――――――\n",
      "name                                rxn_02\n",
      "prefix                              rxn\n",
      "uuid                                98d0913d-0ffd-4d5e-8c9d-6b5354a7aa57\n",
      "bob                                 5\n",
      "f_rtol                              1e-06\n",
      "newton_maxiter                      5000\n",
      "nlin_max_iter                       5000\n",
      "relaxation_quantity                 1.0\n",
      "relaxation_source                   1.0\n",
      "sources                             []\n",
      "x_rtol                              1e-06\n",
      "cache_A                             True\n",
      "cache_b                             True\n",
      "conductance                         \n",
      "phase                               phase_01\n",
      "quantity                            \n",
      "――――――――――――――――――――――――――――――――――――――――――――――――――――――――――――――――――――――――――――――\n"
     ]
    }
   ],
   "source": [
    "s = {\"prefix\": \"rxn\"}\n",
    "alg = op.algorithms.ReactiveTransport(network=pn, phase=air, settings=s)\n",
    "print(alg.settings)"
   ]
  },
  {
   "cell_type": "markdown",
   "id": "d3319d86",
   "metadata": {},
   "source": [
    "Or as a 'dataclass' style, which is how things are done behind the scenes in OpenPNM as described in the section:"
   ]
  },
  {
   "cell_type": "code",
   "execution_count": 6,
   "id": "e8c80215",
   "metadata": {},
   "outputs": [
    {
     "name": "stdout",
     "output_type": "stream",
     "text": [
      "――――――――――――――――――――――――――――――――――――――――――――――――――――――――――――――――――――――――――――――\n",
      "Settings                            Values\n",
      "――――――――――――――――――――――――――――――――――――――――――――――――――――――――――――――――――――――――――――――\n",
      "name                                rxn_03\n",
      "prefix                              rxn\n",
      "uuid                                8735d6dc-8162-449f-8943-ed1214565e16\n",
      "bob                                 5\n",
      "f_rtol                              1e-06\n",
      "newton_maxiter                      5000\n",
      "nlin_max_iter                       5000\n",
      "relaxation_quantity                 1.0\n",
      "relaxation_source                   1.0\n",
      "sources                             []\n",
      "x_rtol                              1e-06\n",
      "new_setting                         44.44\n",
      "cache_A                             True\n",
      "cache_b                             True\n",
      "conductance                         \n",
      "phase                               phase_01\n",
      "quantity                            \n",
      "――――――――――――――――――――――――――――――――――――――――――――――――――――――――――――――――――――――――――――――\n"
     ]
    }
   ],
   "source": [
    "class MySettings:\n",
    "    prefix = 'rxn'\n",
    "    new_setting = 44.44\n",
    "    \n",
    "    \n",
    "alg = op.algorithms.ReactiveTransport(network=pn, phase=air, settings=MySettings())\n",
    "print(alg.settings)"
   ]
  },
  {
   "cell_type": "markdown",
   "id": "878d53d3",
   "metadata": {},
   "source": [
    "One new feature on OpenPNM V3 is that the datatype of the settings is enforced.  For instance the ``'prefix'`` setting must be a ``str``, otherwise an error is raised:"
   ]
  },
  {
   "cell_type": "code",
   "execution_count": 7,
   "id": "f268636b",
   "metadata": {},
   "outputs": [
    {
     "name": "stdout",
     "output_type": "stream",
     "text": [
      "Attribute 'phase' can only accept values of type <class 'str'>, but the recieved value was of type <class 'int'>\n"
     ]
    }
   ],
   "source": [
    "try:\n",
    "    alg.settings.phase = 1\n",
    "except TypeError as e:\n",
    "    print(e)"
   ]
  },
  {
   "cell_type": "markdown",
   "id": "c55ff251",
   "metadata": {},
   "source": [
    "This is very useful for the backend of OpenPNM to ensure that the ``settings`` are always in the correct and expected format.  "
   ]
  },
  {
   "cell_type": "markdown",
   "id": "48e93943",
   "metadata": {},
   "source": [
    "## Advanced Usage\n",
    "\n",
    "> The following sections are probably only relevant if you plan to do some development in OpenPNM\n",
    "\n",
    "In the previous section we saw how to define settings, as well as the data-type protections of settings.  In this section we'll demonstrate this mechanism in more detail.\n",
    "\n",
    "The ``settings`` attribute of all OpenPNM objects is an instance of the new ``SettingsAttr`` class.  It is inspired by the new [Python dataclass](https://docs.python.org/3/library/dataclasses.html) but offers more an additional key feature: ``dataclasses`` allow developers to specify the type of attributes (i.e. ``obj.a`` must be an ``int``), but these are only enforced during object creation. Once the object is made, any value can be assigned to ``a``.  The ``SettingsAttr`` class enforces the type of ``a`` for all subsequent assignments.  We saw this in action in the previous section when we tried to assign an integer to ``alg.sets.prefix``. Another feature of the ``SettingsAttr`` is that the types do not need to be specified, but are instead inferred from the value assigned to them.  This will be demonstrated below."
   ]
  },
  {
   "cell_type": "markdown",
   "id": "eeaa8f42",
   "metadata": {},
   "source": [
    "### Defining Custom Settings and Adding to a SettingsAttr Object\n",
    "\n",
    "Let's first create an empty ``SettingsAttr`` instance, then ``_update`` it with some custom values:"
   ]
  },
  {
   "cell_type": "code",
   "execution_count": 8,
   "id": "51f33e5a",
   "metadata": {},
   "outputs": [],
   "source": [
    "from openpnm.utils import SettingsAttr"
   ]
  },
  {
   "cell_type": "code",
   "execution_count": 9,
   "id": "d9c6e2ce",
   "metadata": {},
   "outputs": [],
   "source": [
    "class CustomSettings:\n",
    "    a = 0\n",
    "    b = 4.4\n",
    "    c = {}\n",
    "    d = []\n",
    "    \n",
    "s = SettingsAttr()\n",
    "s._update(CustomSettings)"
   ]
  },
  {
   "cell_type": "markdown",
   "id": "38d5a884",
   "metadata": {},
   "source": [
    "Now we can print ``s`` to inspect the settings.  We'll see some default values for things that were not initialized like ``a``, while ``b`` is the specified value."
   ]
  },
  {
   "cell_type": "code",
   "execution_count": 10,
   "id": "cf1514f0",
   "metadata": {},
   "outputs": [
    {
     "name": "stdout",
     "output_type": "stream",
     "text": [
      "――――――――――――――――――――――――――――――――――――――――――――――――――――――――――――――――――――――――――――――\n",
      "Settings                            Values\n",
      "――――――――――――――――――――――――――――――――――――――――――――――――――――――――――――――――――――――――――――――\n",
      "a                                   0\n",
      "b                                   4.4\n",
      "c                                   {}\n",
      "d                                   []\n",
      "――――――――――――――――――――――――――――――――――――――――――――――――――――――――――――――――――――――――――――――\n"
     ]
    }
   ],
   "source": [
    "print(s)"
   ]
  },
  {
   "cell_type": "markdown",
   "id": "10485995",
   "metadata": {},
   "source": [
    "We used the hidden ``_update`` method to add the custom settings the ``SettingsAttr`` instance.  This method is hidden because we wanted to keep the namespace completely dedicated to the actual settings, instead of mixing settings and methods. The ``_update`` method is used within the init of all the OpenPNM objects to first update the ``settings`` attribute with the default settings for the class, and then to apply the user supplied settings.  This is demonstrated below:"
   ]
  },
  {
   "cell_type": "code",
   "execution_count": 28,
   "id": "f1895589",
   "metadata": {},
   "outputs": [
    {
     "name": "stdout",
     "output_type": "stream",
     "text": [
      "――――――――――――――――――――――――――――――――――――――――――――――――――――――――――――――――――――――――――――――\n",
      "Settings                            Values\n",
      "――――――――――――――――――――――――――――――――――――――――――――――――――――――――――――――――――――――――――――――\n",
      "name                                foo\n",
      "prefix                              base\n",
      "uuid                                614ed51f-bd28-4137-aec2-0868271f294f\n",
      "a                                   1\n",
      "b                                   hello\n",
      "c                                   4.4\n",
      "――――――――――――――――――――――――――――――――――――――――――――――――――――――――――――――――――――――――――――――\n"
     ]
    }
   ],
   "source": [
    "from openpnm.core import Base\n",
    "\n",
    "class DefaultSettings:\n",
    "    name = 'foo'\n",
    "    a = 1\n",
    "    b = 'string'\n",
    "    \n",
    "\n",
    "class some_algorithm(Base):\n",
    "    def __init__(self, settings={}, **kwargs):\n",
    "        # Add default settings defined internally\n",
    "        self.settings._update(DefaultSettings)\n",
    "        # Upddate with any user-supplied settings\n",
    "        self.settings._update(settings)\n",
    "        \n",
    "b = some_algorithm(settings={'b': 'hello', 'c': 4.4})\n",
    "print(b.settings)"
   ]
  },
  {
   "cell_type": "markdown",
   "id": "24c82096",
   "metadata": {},
   "source": [
    "### Enforced Data-Types\n",
    "\n",
    "The ``SettingsAttr`` class enforces the datatype of each of these attributes:"
   ]
  },
  {
   "cell_type": "code",
   "execution_count": 12,
   "id": "14b6d875",
   "metadata": {},
   "outputs": [
    {
     "name": "stdout",
     "output_type": "stream",
     "text": [
      "――――――――――――――――――――――――――――――――――――――――――――――――――――――――――――――――――――――――――――――\n",
      "Settings                            Values\n",
      "――――――――――――――――――――――――――――――――――――――――――――――――――――――――――――――――――――――――――――――\n",
      "a                                   2\n",
      "b                                   5.5\n",
      "c                                   {}\n",
      "d                                   []\n",
      "――――――――――――――――――――――――――――――――――――――――――――――――――――――――――――――――――――――――――――――\n"
     ]
    }
   ],
   "source": [
    "s.a = 2\n",
    "s.b = 5.5\n",
    "print(s)"
   ]
  },
  {
   "cell_type": "markdown",
   "id": "637bd613",
   "metadata": {},
   "source": [
    "Let's look at the attribute protection in action again:"
   ]
  },
  {
   "cell_type": "code",
   "execution_count": 13,
   "id": "bab2fae9",
   "metadata": {},
   "outputs": [
    {
     "name": "stdout",
     "output_type": "stream",
     "text": [
      "Attribute 'a' can only accept values of type <class 'int'>, but the recieved value was of type <class 'float'>\n"
     ]
    }
   ],
   "source": [
    "try:\n",
    "    s.a = 1.1\n",
    "except TypeError as e:\n",
    "    print(e)"
   ]
  },
  {
   "cell_type": "markdown",
   "id": "ff42b601",
   "metadata": {},
   "source": [
    "Also, we can't accidentally overwrite an attribute that is supposed to be a list with a scalar:"
   ]
  },
  {
   "cell_type": "code",
   "execution_count": 14,
   "id": "cc6f6b84",
   "metadata": {},
   "outputs": [
    {
     "name": "stdout",
     "output_type": "stream",
     "text": [
      "Attribute 'd' can only accept values of type <class 'list'>, but the recieved value was of type <class 'int'>\n"
     ]
    }
   ],
   "source": [
    "try:\n",
    "    s.d = 5\n",
    "except TypeError as e:\n",
    "    print(e)"
   ]
  },
  {
   "cell_type": "markdown",
   "id": "762a5dab",
   "metadata": {},
   "source": [
    "OpenPNM also provides a class called ``TypedList`` which enforces what each element of a list can be.  This is to ensure that a list only contains strings, for instance:"
   ]
  },
  {
   "cell_type": "code",
   "execution_count": 15,
   "id": "feabde23",
   "metadata": {},
   "outputs": [
    {
     "name": "stdout",
     "output_type": "stream",
     "text": [
      "――――――――――――――――――――――――――――――――――――――――――――――――――――――――――――――――――――――――――――――\n",
      "Settings                            Values\n",
      "――――――――――――――――――――――――――――――――――――――――――――――――――――――――――――――――――――――――――――――\n",
      "fruits                              ['apple', 'banana']\n",
      "――――――――――――――――――――――――――――――――――――――――――――――――――――――――――――――――――――――――――――――\n"
     ]
    }
   ],
   "source": [
    "from openpnm.utils import TypedList\n",
    "\n",
    "class MySettings:\n",
    "    fruits = TypedList(['apple', 'banana'])\n",
    "    \n",
    "s = SettingsAttr()\n",
    "s._update(MySettings)\n",
    "print(s)"
   ]
  },
  {
   "cell_type": "code",
   "execution_count": 16,
   "id": "f78b495b",
   "metadata": {},
   "outputs": [
    {
     "name": "stdout",
     "output_type": "stream",
     "text": [
      "This list cannot accept values of type <class 'int'>\n"
     ]
    }
   ],
   "source": [
    "try:\n",
    "    s.fruits[0] = 55\n",
    "except TypeError as e:\n",
    "    print(e)"
   ]
  },
  {
   "cell_type": "markdown",
   "id": "7bbc0ac8",
   "metadata": {},
   "source": [
    "## Adding Documentation to a SettingsAttr Class\n",
    "\n",
    "One the main reasons for using a ``dataclass`` style object for holding settings is so that docstrings for each attribute can be defined and explained:"
   ]
  },
  {
   "cell_type": "code",
   "execution_count": 19,
   "id": "15a82bea",
   "metadata": {},
   "outputs": [],
   "source": [
    "class DocumentedSettingsData:\n",
    "    r\"\"\"\n",
    "    A class that holds the following settings.\n",
    "    \n",
    "    Parameters\n",
    "    ----------\n",
    "    name : str\n",
    "        The name of the object\n",
    "    id_num : int\n",
    "        The id number of the object\n",
    "    \"\"\"\n",
    "    name = 'foo'\n",
    "    id_num = 0\n",
    "\n",
    "d = DocumentedSettingsData()"
   ]
  },
  {
   "cell_type": "code",
   "execution_count": 20,
   "id": "3143b16c",
   "metadata": {},
   "outputs": [
    {
     "name": "stdout",
     "output_type": "stream",
     "text": [
      "\n",
      "    A class that holds the following settings.\n",
      "    \n",
      "    Parameters\n",
      "    ----------\n",
      "    name : str\n",
      "        The name of the object\n",
      "    id_num : int\n",
      "        The id number of the object\n",
      "    \n"
     ]
    }
   ],
   "source": [
    "print(d.__doc__)"
   ]
  },
  {
   "cell_type": "markdown",
   "id": "4ba5e43b",
   "metadata": {},
   "source": [
    "Note that this docstring was written when we defined ``DocumentedSettingsData`` subclass and it attached to it, but we'll be interacting with the ``SettingsAttr`` class.  When a ``SettingsAttr`` is created is adopts the docstring of the received ``settings`` object.  This can be either a proper ``SettingsData/HasTraits`` class or a basic ``dataclass`` style object.  The docstring can only be set on initialization though, so any new attributes that are created by adding values to the object (i.e. ``D.zz_top = 'awesome'``) will not be documented."
   ]
  },
  {
   "cell_type": "code",
   "execution_count": 21,
   "id": "ec095d33",
   "metadata": {},
   "outputs": [
    {
     "name": "stdout",
     "output_type": "stream",
     "text": [
      "\n",
      "    A class that holds the following settings.\n",
      "    \n",
      "    Parameters\n",
      "    ----------\n",
      "    name : str\n",
      "        The name of the object\n",
      "    id_num : int\n",
      "        The id number of the object\n",
      "    \n"
     ]
    }
   ],
   "source": [
    "D = SettingsAttr(d)\n",
    "print(D.__doc__)"
   ]
  },
  {
   "cell_type": "markdown",
   "id": "b24fd217",
   "metadata": {},
   "source": [
    "This machinery was designed with the idea of inheriting docstrings using the ``docrep`` package.  The following illustrates not only how the ``SettingsData`` class can be subclassed to add new settings (e.g. from ``GenericTransport`` to ``ReactiveTransport``), but also how to use the hightly under-rated ``docrep`` package to also inherit the docstrings:"
   ]
  },
  {
   "cell_type": "code",
   "execution_count": 24,
   "id": "920f3d6f",
   "metadata": {},
   "outputs": [
    {
     "name": "stdout",
     "output_type": "stream",
     "text": [
      "A subclass of DocumentedSettingsData that holds some addtional settings\n",
      "\n",
      "Parameters\n",
      "----------\n",
      "name : str\n",
      "    The name of the object\n",
      "id_num : int\n",
      "    The id number of the object\n",
      "max_iter : int\n",
      "    The maximum number of iterations to do\n"
     ]
    }
   ],
   "source": [
    "import docrep\n",
    "docstr = docrep.DocstringProcessor()\n",
    "\n",
    "\n",
    "# This docorator tells docrep to fetch the docstring from this class and make it available elsewhere:\n",
    "@docstr.get_sections(base='DocumentSettingsData', sections=['Parameters'])\n",
    "class DocumentedSettingsData:\n",
    "    r\"\"\"\n",
    "    A class that holds the following settings.\n",
    "    \n",
    "    Parameters\n",
    "    ----------\n",
    "    name : str\n",
    "        The name of the object\n",
    "    id_num : int\n",
    "        The id number of the object\n",
    "    \"\"\"\n",
    "    name = 'foo'\n",
    "    id_num = 0\n",
    "\n",
    "\n",
    "# This tells docrep to parse this docstring and insert text at the %\n",
    "@docstr.dedent\n",
    "class ChildSettingsData:\n",
    "    r\"\"\"\n",
    "    A subclass of DocumentedSettingsData that holds some addtional settings\n",
    "    \n",
    "    Parameters\n",
    "    ----------\n",
    "    %(DocumentSettingsData.parameters)s\n",
    "    max_iter : int\n",
    "        The maximum number of iterations to do\n",
    "    \"\"\"\n",
    "    max_iter = 10\n",
    "\n",
    "    \n",
    "E = ChildSettingsData()\n",
    "print(E.__doc__)"
   ]
  },
  {
   "cell_type": "markdown",
   "id": "e67cda03",
   "metadata": {},
   "source": [
    "Again, as mentioned above, this inherited docstring is adopted by the ``SettingsAttr``:"
   ]
  },
  {
   "cell_type": "code",
   "execution_count": 27,
   "id": "8578e554",
   "metadata": {},
   "outputs": [
    {
     "name": "stdout",
     "output_type": "stream",
     "text": [
      "A subclass of DocumentedSettingsData that holds some addtional settings\n",
      "\n",
      "Parameters\n",
      "----------\n",
      "name : str\n",
      "    The name of the object\n",
      "id_num : int\n",
      "    The id number of the object\n",
      "max_iter : int\n",
      "    The maximum number of iterations to do\n"
     ]
    }
   ],
   "source": [
    "S = SettingsAttr(E)\n",
    "print(S.__doc__)"
   ]
  }
 ],
 "metadata": {
  "kernelspec": {
   "display_name": "Python 3 (ipykernel)",
   "language": "python",
   "name": "python3"
  },
  "language_info": {
   "codemirror_mode": {
    "name": "ipython",
    "version": 3
   },
   "file_extension": ".py",
   "mimetype": "text/x-python",
   "name": "python",
   "nbconvert_exporter": "python",
   "pygments_lexer": "ipython3",
   "version": "3.9.7"
  }
 },
 "nbformat": 4,
 "nbformat_minor": 5
}
